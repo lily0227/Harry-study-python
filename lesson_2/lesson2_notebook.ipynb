{
 "cells": [
  {
   "cell_type": "code",
   "execution_count": null,
   "id": "4c4b954a",
   "metadata": {},
   "outputs": [],
   "source": [
    "print(\"hello world\")\n",
    "person=input('What is your name? ')\n",
    "print('Hello, ' + person + '! How are you?')"
   ]
  },
  {
   "cell_type": "markdown",
   "id": "f8fedb8b",
   "metadata": {},
   "source": [
    "# 变量\n",
    "变量就像贴了标签的盒子，你可以把数据存储到这个盒子里，有需要的时候你叫它的名字，就可以把它叫出来"
   ]
  },
  {
   "cell_type": "code",
   "execution_count": null,
   "id": "1be74276",
   "metadata": {},
   "outputs": [],
   "source": [
    "age =10\n",
    "print('I am ' + str(age) + ' years old.')\n",
    "age= 38\n",
    "print('I am ' + str(age) + ' years old.')\n",
    "age=input('How old are you? ')\n",
    "print('OK, you are ' + str(age) + ' years old.')"
   ]
  },
  {
   "cell_type": "markdown",
   "id": "3da6953e",
   "metadata": {},
   "source": [
    "## 变量整型与浮点型\n",
    "不同的变量类型存储不同类型的数据，先来理解最简单的三种类型\n",
    "1. 整型就是整数\n",
    "2. 浮点型简单理解说小数点 \n",
    "3. 字符串类型"
   ]
  },
  {
   "cell_type": "code",
   "execution_count": null,
   "id": "9d530037",
   "metadata": {},
   "outputs": [],
   "source": [
    "#整型\n",
    "x = 5\n",
    "print(x)    \n",
    "#浮点型\n",
    "x = 5.8\n",
    "print(x)\n",
    "#字符串\n",
    "x = '5'\n",
    "print(x)\n",
    "\n",
    "x=6\n",
    "y=x+7\n",
    "print(y)"
   ]
  },
  {
   "cell_type": "code",
   "execution_count": null,
   "id": "b199158b",
   "metadata": {},
   "outputs": [],
   "source": [
    "name='harry'\n",
    "print(name)"
   ]
  },
  {
   "cell_type": "markdown",
   "id": "8714006f",
   "metadata": {},
   "source": [
    "### 字符串\n",
    "\n",
    "1. 字符串相加等于一长串字符串\n",
    "2. 获取字符串的长度"
   ]
  },
  {
   "cell_type": "code",
   "execution_count": null,
   "id": "a547a4d0",
   "metadata": {},
   "outputs": [],
   "source": [
    "name = 'Alice'\n",
    "greeting='welcome to the world of Python, ' \n",
    "message = greeting + name\n",
    "print(message)\n",
    "#字符串拼接\n",
    "#print(len(message))"
   ]
  },
  {
   "cell_type": "markdown",
   "id": "b6e8416a",
   "metadata": {},
   "source": [
    "## 多个变量\n",
    "1. 如果你设计一个6人游戏，要弄几个变量？\n",
    "2. 有没有更好的办法 -- 列表"
   ]
  },
  {
   "cell_type": "code",
   "execution_count": null,
   "id": "d7b54283",
   "metadata": {},
   "outputs": [],
   "source": [
    "rocket_player1 ='Rory'  \n",
    "rocket_player2='Alice'\n",
    "rocket_player3='Rachel'\n",
    "planets_player1='Peter'\n",
    "planets_player2='Polly'\n",
    "planets_player3='Bob'\n",
    "print('rocket teams player are:', rocket_player1, rocket_player2, rocket_player3, sep='\\n')\n",
    "print('planets teams player are:', planets_player1, planets_player2, planets_player3, sep='\\n')\n"
   ]
  },
  {
   "cell_type": "markdown",
   "id": "dabd4d53",
   "metadata": {},
   "source": [
    "## 列表\n",
    "1. 如果你要记录很多类型的数据，例如假设设计2个球队要进行比赛，原址的做法是定义多个变量\n",
    "2. 可以定义两个可以存一堆球员名字的变量，这种变量叫列表-list"
   ]
  },
  {
   "cell_type": "code",
   "execution_count": null,
   "id": "ad9453b4",
   "metadata": {},
   "outputs": [],
   "source": [
    "rocket_players=['Rory','Alice','Rachel']\n",
    "planets_players=['Peter','Polly','Bob']\n",
    "print('rocket teams player are:', rocket_players[0],rocket_players[1],rocket_players[2], sep='\\n')\n",
    "print('planets teams player are:', planets_players, sep='\\n')"
   ]
  },
  {
   "cell_type": "markdown",
   "id": "d97ac3d4",
   "metadata": {},
   "source": [
    "## 布尔值\n",
    "1. 其实就是答案，对或者错，真或者假\n",
    "2. 对/真 - True\n",
    "3. 错/假 - False"
   ]
  },
  {
   "cell_type": "code",
   "execution_count": null,
   "id": "cf808afc",
   "metadata": {},
   "outputs": [],
   "source": [
    "age =10\n",
    "if age==10:\n",
    "    print('You are 10 years old')\n",
    "    print(age==10)\n",
    "\n",
    "if age > 10:\n",
    "    print('You are older than 10 years old')\n",
    "else:\n",
    "    print('You are not older than 10 years old')"
   ]
  }
 ],
 "metadata": {
  "kernelspec": {
   "display_name": "harry_study_env",
   "language": "python",
   "name": "python3"
  },
  "language_info": {
   "codemirror_mode": {
    "name": "ipython",
    "version": 3
   },
   "file_extension": ".py",
   "mimetype": "text/x-python",
   "name": "python",
   "nbconvert_exporter": "python",
   "pygments_lexer": "ipython3",
   "version": "3.12.11"
  }
 },
 "nbformat": 4,
 "nbformat_minor": 5
}
