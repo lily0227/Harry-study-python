{
 "cells": [
  {
   "cell_type": "markdown",
   "id": "cc29da25",
   "metadata": {},
   "source": [
    "# 条件\n",
    "1. 如果你出了小区往前走，或者往后走上不是要进行选择，这就是条件\n",
    "2. 条件分为1个分支， 两个分支 ，多个分支"
   ]
  },
  {
   "cell_type": "code",
   "execution_count": null,
   "id": "d1078c69",
   "metadata": {},
   "outputs": [],
   "source": [
    "# 一个分支\n",
    "is_dark= input('Is is dark outside? y/n')\n",
    "if is_dark=='y':\n",
    "    print('Goodnight! Zzzzzzzz')"
   ]
  },
  {
   "cell_type": "code",
   "execution_count": 9,
   "id": "64b2ade5",
   "metadata": {},
   "outputs": [
    {
     "name": "stdout",
     "output_type": "stream",
     "text": [
      "Please enter a valid character \n"
     ]
    }
   ],
   "source": [
    "#两个分支 tentacles --> 触手\n",
    "tentacles= input('Do you have tentacles? (Y/N)').strip().upper()\n",
    "\n",
    "if tentacles in ['Y','N']:\n",
    "    if tentacles=='Y':\n",
    "        print('I never knew octopues could type')\n",
    "    else:\n",
    "        print('Greetings, human')\n",
    "else:\n",
    "    print('Please enter a valid character ')\n",
    "    tentacles= input('Do you have tentacles? (Y/N)').strip().upper()\n"
   ]
  },
  {
   "cell_type": "code",
   "execution_count": null,
   "id": "b3454ee1",
   "metadata": {},
   "outputs": [],
   "source": [
    "# 多个分支\n",
    "weather =input('What is the forecast for today? (rain / snow / sun)').strip().lower()\n",
    "if weather == 'rain':\n",
    "    print('Remember your unbrella !')\n",
    "elif weather=='snow':\n",
    "    print('Remember your woolly gloves!')\n",
    "else:\n",
    "    print('Remember your sunglass!')\n"
   ]
  },
  {
   "cell_type": "markdown",
   "id": "58757368",
   "metadata": {},
   "source": [
    "# for 循环\n",
    "不要写一堆废物代码 \n"
   ]
  },
  {
   "cell_type": "code",
   "execution_count": null,
   "id": "07921112",
   "metadata": {},
   "outputs": [],
   "source": [
    "# 你的房间不允许别人进来，要一直说 土人做法\n",
    "print('Harry\\'s Room --- Keep Out!!!!!')\n",
    "print('Harry\\'s Room --- Keep Out!!!!!')\n",
    "print('Harry\\'s Room --- Keep Out!!!!!')\n",
    "print('Harry\\'s Room --- Keep Out!!!!!')\n",
    "print('Harry\\'s Room --- Keep Out!!!!!')\n",
    "print('Harry\\'s Room --- Keep Out!!!!!')\n",
    "print('Harry\\'s Room --- Keep Out!!!!!')"
   ]
  },
  {
   "cell_type": "code",
   "execution_count": null,
   "id": "fd654131",
   "metadata": {},
   "outputs": [],
   "source": [
    "#聪明的做法 range(start, stop) stop 不包含在内 只要两行\n",
    "\n",
    "for counter in range(1,8):\n",
    "    print('Harry\\'s Room --- Keep Out!!!!!')"
   ]
  },
  {
   "cell_type": "markdown",
   "id": "4431993b",
   "metadata": {},
   "source": [
    "\\ 是转移字符，避免跟系统的冲突"
   ]
  },
  {
   "cell_type": "markdown",
   "id": "82dcf979",
   "metadata": {},
   "source": [
    "# while 循环\n",
    "for while的区别\n",
    "1. for 明确要重复几次\n",
    "2. while 不确定要执行多少次才执行\n",
    "\n",
    "3. 想一想上一节课的过山车游戏，如果我们让电脑一直问 怎么弄？"
   ]
  },
  {
   "cell_type": "code",
   "execution_count": null,
   "id": "fac47b6b",
   "metadata": {},
   "outputs": [],
   "source": [
    "# 做一个叠罗汉的游戏，电脑一直问你，直到你说不叠了 才说停止\n",
    "hippo = 0\n",
    "answer ='Y'\n",
    "while answer=='Y':\n",
    "    hippo=hippo+1\n",
    "    print(str(hippo)+' blancing hippo!')\n",
    "    answer=input('Add another hippo? (y/n)').strip().upper()"
   ]
  },
  {
   "cell_type": "code",
   "execution_count": 15,
   "id": "e68933ad",
   "metadata": {},
   "outputs": [
    {
     "name": "stdout",
     "output_type": "stream",
     "text": [
      "恭喜您，可以参与过山车游戏\n",
      "不好意思，您的身高或者年龄不满足需求\n"
     ]
    }
   ],
   "source": [
    "\n",
    "for counter in range(1,3):\n",
    "    age= int(input(\"请输入您的年龄：\"))\n",
    "    height=float(input(\"请输入您的身高：\"))\n",
    "    if age>8 and height >1.4:\n",
    "        print(\"恭喜您，可以参与过山车游戏\")\n",
    "    else:\n",
    "        print(\"不好意思，您的身高或者年龄不满足需求\")"
   ]
  },
  {
   "cell_type": "code",
   "execution_count": null,
   "id": "c337117d",
   "metadata": {},
   "outputs": [],
   "source": [
    "\n",
    "answer ='Y'\n",
    "while answer =='Y':\n",
    "    age= int(input(\"请输入您的年龄：\"))\n",
    "    height=float(input(\"请输入您的身高：\"))\n",
    "    if age>8 and height >1.4:\n",
    "        print(\"恭喜您，可以参与过山车游戏\")\n",
    "    else:\n",
    "        print(\"不好意思，您的身高或者年龄不满足需求\")\n",
    "    \n",
    "    answer = input('您要继续咨询系统么(Y/N)').strip().upper()\n",
    "\n",
    "print('欢迎下次再来！！！！')"
   ]
  },
  {
   "cell_type": "markdown",
   "id": "92063011",
   "metadata": {},
   "source": [
    "## 无限循环"
   ]
  },
  {
   "cell_type": "markdown",
   "id": "58b3142a",
   "metadata": {},
   "source": [
    "## 何跳出无限循环"
   ]
  }
 ],
 "metadata": {
  "kernelspec": {
   "display_name": "harry_study_env",
   "language": "python",
   "name": "python3"
  },
  "language_info": {
   "codemirror_mode": {
    "name": "ipython",
    "version": 3
   },
   "file_extension": ".py",
   "mimetype": "text/x-python",
   "name": "python",
   "nbconvert_exporter": "python",
   "pygments_lexer": "ipython3",
   "version": "3.12.11"
  }
 },
 "nbformat": 4,
 "nbformat_minor": 5
}
