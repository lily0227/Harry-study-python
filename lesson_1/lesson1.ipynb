{
 "cells": [
  {
   "cell_type": "markdown",
   "id": "30a1c396",
   "metadata": {},
   "source": [
    "# My first lesson- what is the Python\n",
    "\n",
    "**什么是编程**\n",
    "1. 编程的英文 code\n",
    "2. 编程就是让电脑/服务器/手机（任何带芯片的设备）按照程序员（开发人员）提供的指令一步一步实现任务集合\n",
    "\n",
    "**编程的好处**\n",
    "1. 避免人类做重复的工作。比如：\n",
    "    1. 每天都要提醒你打卡，其实可以让程序来做\n",
    "    2. 外卖送过来的快递标签，原来都是老板招一个人来贴，其实可以请一个机器人来做\n",
    "\n",
    "2. 让原本复杂的事情让人类做起来更省时省力，比如：\n",
    "    1. 原来是买东西只能自己去店里买，或者打电话买，现在可以用手机下单买\n",
    "    2. 原来上课要去学校上课，现在可以网上上课\n",
    "    3. 原来查资料要去图书馆或者书店，现在可以网上查\n",
    "\n",
    "3. 实现你想实现的功能，让别人体验到幸福，快乐。 比如：\n",
    "    1. 开发一个游戏，让别人按着你的设计的场景来玩\n",
    "    2. 开发一个可以快速完成工作的程序，让你快点下班\n",
    "\n",
    "\n",
    "**编程有这么多好处，但是一般粗心的人是写不好编程的，甚至会带给别人灾难**\n",
    "\n",
    "我们管写的code 不能运行或者运行出来有问题 叫做 **bug**\n",
    "\n",
    "**编程的语言有几千种，比如c++, python, javascript等等**\n",
    "\n",
    "\n",
    "Python的两种运行环境\n",
    "1. 编译器，比如原生IDLE， vs code , 它的好处是代码可以保存下来，可以反复用\n",
    "2. 命令行（command)，不同的电脑系统使用不一样\n",
    "    1. Linux 叫 shell \n",
    "    2. MAC 叫终端 英文叫 terminal \n",
    "    3. window 叫控制台 command\n",
    "\n",
    "\n"
   ]
  },
  {
   "cell_type": "code",
   "execution_count": null,
   "id": "0aae186d",
   "metadata": {},
   "outputs": [],
   "source": [
    "print('hello Harry !')"
   ]
  },
  {
   "cell_type": "markdown",
   "id": "1db3e861",
   "metadata": {},
   "source": [
    "**代码颜色**\n",
    "\n",
    "1. 错误--红色\n",
    "2. 紫色--内置命令行"
   ]
  },
  {
   "cell_type": "markdown",
   "id": "d29f9afe",
   "metadata": {},
   "source": [
    "## 输出圆周率\n",
    "1. 简单圆周率\n",
    "2. 高精度圆周率"
   ]
  },
  {
   "cell_type": "code",
   "execution_count": null,
   "id": "5f7b1754",
   "metadata": {},
   "outputs": [],
   "source": [
    "import math as m\n",
    "print(m.pi)\n",
    "\n"
   ]
  },
  {
   "cell_type": "code",
   "execution_count": 15,
   "id": "1a98e2b6",
   "metadata": {},
   "outputs": [
    {
     "name": "stdout",
     "output_type": "stream",
     "text": [
      "pi = 3.141592653589793238462643383279502884197169399375105820974944592307816406286208998628034825342117070\n"
     ]
    },
    {
     "data": {
      "text/plain": [
       "\"\\n# 浮点数计算可能会有精度问题\\na = Decimal('0.1')\\nb = Decimal('0.2')\\nprint('a + b =', a + b)  # 精确计算\\nprint(0.1 + 0.2)  # 浮点数计算\\n\""
      ]
     },
     "execution_count": 15,
     "metadata": {},
     "output_type": "execute_result"
    }
   ],
   "source": [
    "from decimal import Decimal, getcontext\n",
    "getcontext().prec = 100 # set precision  （精度）\n",
    "pi= Decimal(0)\n",
    "k=0\n",
    "while k<100:\n",
    "    pi += Decimal(1)/(16**k) * (Decimal(4)/(8*k+1) - Decimal(2)/(8*k+4) - Decimal(1)/(8*k+5) - Decimal(1)/(8*k+6))\n",
    "    k += 1\n",
    "print('pi =', pi)\n",
    "\n",
    "'''\n",
    "# 浮点数计算可能会有精度问题\n",
    "a = Decimal('0.1')\n",
    "b = Decimal('0.2')\n",
    "print('a + b =', a + b)  # 精确计算\n",
    "print(0.1 + 0.2)  # 浮点数计算\n",
    "'''\n"
   ]
  },
  {
   "cell_type": "markdown",
   "id": "45eab9d6",
   "metadata": {},
   "source": [
    "## output even or odd"
   ]
  },
  {
   "cell_type": "code",
   "execution_count": null,
   "id": "374c9f36",
   "metadata": {},
   "outputs": [],
   "source": [
    "for counter in range(10):\n",
    "    if counter % 2 == 0:\n",
    "        print(f'Counter is even: {counter}')\n",
    "    else:\n",
    "        print(f'Counter is odd: {counter}')\n",
    "print('End of the program')"
   ]
  }
 ],
 "metadata": {
  "kernelspec": {
   "display_name": "harry_study_env",
   "language": "python",
   "name": "python3"
  },
  "language_info": {
   "codemirror_mode": {
    "name": "ipython",
    "version": 3
   },
   "file_extension": ".py",
   "mimetype": "text/x-python",
   "name": "python",
   "nbconvert_exporter": "python",
   "pygments_lexer": "ipython3",
   "version": "3.12.11"
  }
 },
 "nbformat": 4,
 "nbformat_minor": 5
}
